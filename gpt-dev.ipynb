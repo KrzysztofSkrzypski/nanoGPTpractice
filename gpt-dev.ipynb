{
 "cells": [
  {
   "cell_type": "code",
   "execution_count": 1,
   "metadata": {},
   "outputs": [
    {
     "name": "stdout",
     "output_type": "stream",
     "text": [
      "--2024-06-09 23:11:28--  https://raw.githubusercontent.com/karpathy/char-rnn/master/data/tinyshakespeare/input.txt\n",
      "Resolving raw.githubusercontent.com (raw.githubusercontent.com)... 2606:50c0:8000::154, 2606:50c0:8001::154, 2606:50c0:8002::154, ...\n",
      "Connecting to raw.githubusercontent.com (raw.githubusercontent.com)|2606:50c0:8000::154|:443... connected.\n",
      "HTTP request sent, awaiting response... 200 OK\n",
      "Length: 1115394 (1.1M) [text/plain]\n",
      "Saving to: ‘input.txt.1’\n",
      "\n",
      "input.txt.1         100%[===================>]   1.06M  --.-KB/s    in 0.08s   \n",
      "\n",
      "2024-06-09 23:11:28 (14.1 MB/s) - ‘input.txt.1’ saved [1115394/1115394]\n",
      "\n"
     ]
    }
   ],
   "source": [
    "!wget https://raw.githubusercontent.com/karpathy/char-rnn/master/data/tinyshakespeare/input.txt"
   ]
  },
  {
   "cell_type": "code",
   "execution_count": 2,
   "metadata": {},
   "outputs": [],
   "source": [
    "with open('input.txt', 'r', encoding='utf-8') as f:\n",
    "    text = f.read() "
   ]
  },
  {
   "cell_type": "code",
   "execution_count": 3,
   "metadata": {},
   "outputs": [
    {
     "name": "stdout",
     "output_type": "stream",
     "text": [
      "length of the dataset  1115394\n"
     ]
    }
   ],
   "source": [
    "print(\"length of the dataset \", len(text))"
   ]
  },
  {
   "cell_type": "code",
   "execution_count": 4,
   "metadata": {},
   "outputs": [
    {
     "name": "stdout",
     "output_type": "stream",
     "text": [
      "First Citizen:\n",
      "Before we proceed any further, hear me speak.\n",
      "\n",
      "All:\n",
      "Speak, speak.\n",
      "\n",
      "First Citizen:\n",
      "You\n"
     ]
    }
   ],
   "source": [
    "print(text[:100])"
   ]
  },
  {
   "cell_type": "code",
   "execution_count": 5,
   "metadata": {},
   "outputs": [
    {
     "name": "stdout",
     "output_type": "stream",
     "text": [
      "chars: \n",
      " !$&',-.3:;?ABCDEFGHIJKLMNOPQRSTUVWXYZabcdefghijklmnopqrstuvwxyz\n",
      "vocab_size=65\n"
     ]
    }
   ],
   "source": [
    "\n",
    "chars = sorted(list(set(text))) \n",
    "vocab_size = len(chars)\n",
    "print(\"chars:\", ''.join(chars))\n",
    "print(f\"{vocab_size=}\")"
   ]
  },
  {
   "cell_type": "code",
   "execution_count": 6,
   "metadata": {},
   "outputs": [
    {
     "name": "stdout",
     "output_type": "stream",
     "text": [
      "[46, 47, 1, 58, 46, 43, 56, 43]\n",
      "hi there\n"
     ]
    }
   ],
   "source": [
    "stoi = {ch:i for i,ch in enumerate(chars)}\n",
    "itos = {i:ch for i,ch in enumerate(chars)}\n",
    "encode = lambda s: [stoi[c] for c in s]\n",
    "decode = lambda l: ''.join([itos[n] for n in l])\n",
    "print(encode(\"hi there\"))\n",
    "print(decode(encode(\"hi there\")))"
   ]
  },
  {
   "cell_type": "code",
   "execution_count": 7,
   "metadata": {},
   "outputs": [
    {
     "name": "stdout",
     "output_type": "stream",
     "text": [
      "data.shape=torch.Size([1115394]) data.dtype=torch.int64\n",
      "data[:100]=tensor([18, 47, 56, 57, 58,  1, 15, 47, 58, 47, 64, 43, 52, 10,  0, 14, 43, 44,\n",
      "        53, 56, 43,  1, 61, 43,  1, 54, 56, 53, 41, 43, 43, 42,  1, 39, 52, 63,\n",
      "         1, 44, 59, 56, 58, 46, 43, 56,  6,  1, 46, 43, 39, 56,  1, 51, 43,  1,\n",
      "        57, 54, 43, 39, 49,  8,  0,  0, 13, 50, 50, 10,  0, 31, 54, 43, 39, 49,\n",
      "         6,  1, 57, 54, 43, 39, 49,  8,  0,  0, 18, 47, 56, 57, 58,  1, 15, 47,\n",
      "        58, 47, 64, 43, 52, 10,  0, 37, 53, 59])\n"
     ]
    }
   ],
   "source": [
    "import torch\n",
    "data = torch.tensor(encode(text), dtype=torch.long)\n",
    "print(f\"{data.shape=} {data.dtype=}\")\n",
    "print(f\"{data[:100]=}\")"
   ]
  },
  {
   "cell_type": "code",
   "execution_count": 8,
   "metadata": {},
   "outputs": [
    {
     "data": {
      "text/plain": [
       "tensor([18, 47, 56, 57, 58,  1, 15, 47, 58])"
      ]
     },
     "execution_count": 8,
     "metadata": {},
     "output_type": "execute_result"
    }
   ],
   "source": [
    "n = int(0.9 * len(data))\n",
    "train_data = data[:n]\n",
    "val_data = data[n:]\n",
    "\n",
    "block_size = 8\n",
    "train_data[:block_size+1]"
   ]
  },
  {
   "cell_type": "code",
   "execution_count": 9,
   "metadata": {},
   "outputs": [
    {
     "name": "stdout",
     "output_type": "stream",
     "text": [
      "when context is tensor([18]) target is 47\n",
      "when context is tensor([18, 47]) target is 56\n",
      "when context is tensor([18, 47, 56]) target is 57\n",
      "when context is tensor([18, 47, 56, 57]) target is 58\n",
      "when context is tensor([18, 47, 56, 57, 58]) target is 1\n",
      "when context is tensor([18, 47, 56, 57, 58,  1]) target is 15\n",
      "when context is tensor([18, 47, 56, 57, 58,  1, 15]) target is 47\n",
      "when context is tensor([18, 47, 56, 57, 58,  1, 15, 47]) target is 58\n"
     ]
    }
   ],
   "source": [
    "x = train_data[:block_size]\n",
    "y = train_data[1:block_size+1]\n",
    "for t in range(block_size):\n",
    "    context = x[:t+1]\n",
    "    target = y[t]\n",
    "    print(f\"when context is {context} target is {target}\")\n"
   ]
  },
  {
   "cell_type": "code",
   "execution_count": 13,
   "metadata": {},
   "outputs": [
    {
     "name": "stdout",
     "output_type": "stream",
     "text": [
      "ix=tensor([ 76049, 234249, 934904, 560986])\n",
      "inputs:\n",
      "torch.Size([4, 8])\n",
      "tensor([[24, 43, 58,  5, 57,  1, 46, 43],\n",
      "        [44, 53, 56,  1, 58, 46, 39, 58],\n",
      "        [52, 58,  1, 58, 46, 39, 58,  1],\n",
      "        [25, 17, 27, 10,  0, 21,  1, 54]])\n",
      "targets:\n",
      "torch.Size([4, 8])\n",
      "tensor([[43, 58,  5, 57,  1, 46, 43, 39],\n",
      "        [53, 56,  1, 58, 46, 39, 58,  1],\n",
      "        [58,  1, 58, 46, 39, 58,  1, 46],\n",
      "        [17, 27, 10,  0, 21,  1, 54, 39]])\n",
      "-----\n",
      "when context is [24] the target is 43\n",
      "when context is [24, 43] the target is 58\n",
      "when context is [24, 43, 58] the target is 5\n",
      "when context is [24, 43, 58, 5] the target is 57\n",
      "when context is [24, 43, 58, 5, 57] the target is 1\n",
      "when context is [24, 43, 58, 5, 57, 1] the target is 46\n",
      "when context is [24, 43, 58, 5, 57, 1, 46] the target is 43\n",
      "when context is [24, 43, 58, 5, 57, 1, 46, 43] the target is 39\n",
      "when context is [44] the target is 53\n",
      "when context is [44, 53] the target is 56\n",
      "when context is [44, 53, 56] the target is 1\n",
      "when context is [44, 53, 56, 1] the target is 58\n",
      "when context is [44, 53, 56, 1, 58] the target is 46\n",
      "when context is [44, 53, 56, 1, 58, 46] the target is 39\n",
      "when context is [44, 53, 56, 1, 58, 46, 39] the target is 58\n",
      "when context is [44, 53, 56, 1, 58, 46, 39, 58] the target is 1\n",
      "when context is [52] the target is 58\n",
      "when context is [52, 58] the target is 1\n",
      "when context is [52, 58, 1] the target is 58\n",
      "when context is [52, 58, 1, 58] the target is 46\n",
      "when context is [52, 58, 1, 58, 46] the target is 39\n",
      "when context is [52, 58, 1, 58, 46, 39] the target is 58\n",
      "when context is [52, 58, 1, 58, 46, 39, 58] the target is 1\n",
      "when context is [52, 58, 1, 58, 46, 39, 58, 1] the target is 46\n",
      "when context is [25] the target is 17\n",
      "when context is [25, 17] the target is 27\n",
      "when context is [25, 17, 27] the target is 10\n",
      "when context is [25, 17, 27, 10] the target is 0\n",
      "when context is [25, 17, 27, 10, 0] the target is 21\n",
      "when context is [25, 17, 27, 10, 0, 21] the target is 1\n",
      "when context is [25, 17, 27, 10, 0, 21, 1] the target is 54\n",
      "when context is [25, 17, 27, 10, 0, 21, 1, 54] the target is 39\n"
     ]
    }
   ],
   "source": [
    "torch.manual_seed(1337)\n",
    "batch_size = 4\n",
    "block_size = 8\n",
    "def get_batch(split):\n",
    "    data = train_data if split == 'train' else val_data\n",
    "    ix = torch.randint(len(data) - block_size, (batch_size, ))\n",
    "    print(f\"{ix=}\")\n",
    "    x = torch.stack([data[i:i+block_size] for i in ix])\n",
    "    y = torch.stack([data[i+1:i+1+block_size] for i in ix])\n",
    "    return x, y\n",
    "xb, yb = get_batch('train')\n",
    "# print(f\"{xb=}\\n{yb=}\")\n",
    "print(\"inputs:\")\n",
    "print(xb.shape)\n",
    "print(xb)\n",
    "print(\"targets:\")\n",
    "print(yb.shape)\n",
    "print(yb)\n",
    "print('-----')\n",
    "\n",
    "for b in range(batch_size): # batch dimesion\n",
    "    for t in range(block_size): # time dimesion\n",
    "        context = xb[b, :t+1]\n",
    "        target = yb[b, t]\n",
    "        print(f'when context is {context.tolist()} the target is {target}')\n"
   ]
  }
 ],
 "metadata": {
  "kernelspec": {
   "display_name": "Python 3",
   "language": "python",
   "name": "python3"
  },
  "language_info": {
   "codemirror_mode": {
    "name": "ipython",
    "version": 3
   },
   "file_extension": ".py",
   "mimetype": "text/x-python",
   "name": "python",
   "nbconvert_exporter": "python",
   "pygments_lexer": "ipython3",
   "version": "3.9.18"
  }
 },
 "nbformat": 4,
 "nbformat_minor": 2
}
